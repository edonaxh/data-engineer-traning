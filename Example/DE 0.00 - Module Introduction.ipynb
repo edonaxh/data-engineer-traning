{
 "cells": [
  {
   "cell_type": "markdown",
   "metadata": {
    "application/vnd.databricks.v1+cell": {
     "cellMetadata": {},
     "inputWidgets": {},
     "nuid": "1654ef98-b213-49c1-a91e-756374386004",
     "showTitle": false,
     "title": ""
    }
   },
   "source": [
    "\n",
    "<div style=\"text-align: center; line-height: 0; padding-top: 9px;\">\n",
    "  <img src=\"https://databricks.com/wp-content/uploads/2018/03/db-academy-rgb-1200px.png\" alt=\"Databricks Learning\" style=\"width: 600px\">\n",
    "</div>"
   ]
  },
  {
   "cell_type": "markdown",
   "metadata": {
    "application/vnd.databricks.v1+cell": {
     "cellMetadata": {},
     "inputWidgets": {},
     "nuid": "f3bb6ff2-d110-494a-b2f7-44d30d939b63",
     "showTitle": false,
     "title": "--i18n-0a463481-dd94-4286-9f6e-6522a3a090ec"
    }
   },
   "source": [
    "## Introduction to PySpark Programming\n",
    "\n",
    "This module is part of the Data Engineer Learning Path by Databricks Academy.\n",
    "\n",
    "#### DataFrames\n",
    "| Type | Lesson |\n",
    "| --- | --- |\n",
    "| Demo | [DE 0.01 - Spark SQL]($./DE 0.01 - Spark SQL) |\n",
    "| Lab | [DE 0.02L - Spark SQL Lab]($./DE 0.02L - Spark SQL Lab) |\n",
    "| Demo | [DE 0.03 - DataFrame & Column]($./DE 0.03 - DataFrame & Column) |\n",
    "| Lab | [DE 0.04L - Purchase Revenues Lab]($./DE 0.04L - Purchase Revenues Lab) |\n",
    "| Demo | [DE 0.05 - Aggregation]($./DE 0.05 - Aggregation) |\n",
    "| Lab | [DE 0.06L - Revenue by Traffic Lab]($./DE 0.06L - Revenue by Traffic Lab) |\n",
    "\n",
    "#### Functions\n",
    "| Type | Lesson |\n",
    "| --- | --- |\n",
    "| Demo | [DE 0.07 - Reader & Writer]($./DE 0.07 - Reader & Writer) |\n",
    "| Lab | [DE 0.08L - Ingesting Data Lab]($./DE 0.08L - Ingesting Data Lab) |\n",
    "| Demo | [DE 0.09 - Datetimes]($./DE 0.09 - Datetimes) |\n",
    "| Demo | [DE 0.10 - Complex Types]($./DE 0.10 - Complex Types) |\n",
    "| Demo | [DE 0.11 - Additional Functions]($./DE 0.11 - Additional Functions) |\n",
    "| Lab | [DE 0.12L - Abandoned Carts Lab]($./DE 0.12L - Abandoned Carts Lab) |\n",
    "\n",
    "#### Query Execution\n",
    "| Type | Lesson |\n",
    "| --- | --- |\n",
    "| Demo | [DE 0.13 - Query Optimization]($./DE 0.13 - Query Optimization) |"
   ]
  },
  {
   "cell_type": "markdown",
   "metadata": {
    "application/vnd.databricks.v1+cell": {
     "cellMetadata": {},
     "inputWidgets": {},
     "nuid": "9ab732ee-2277-4242-97bc-ef7a1fd513ee",
     "showTitle": false,
     "title": ""
    }
   },
   "source": [
    "&copy; 2023 Databricks, Inc. All rights reserved.<br/>\n",
    "Apache, Apache Spark, Spark and the Spark logo are trademarks of the <a href=\"https://www.apache.org/\">Apache Software Foundation</a>.<br/>\n",
    "<br/>\n",
    "<a href=\"https://databricks.com/privacy-policy\">Privacy Policy</a> | <a href=\"https://databricks.com/terms-of-use\">Terms of Use</a> | <a href=\"https://help.databricks.com/\">Support</a>"
   ]
  }
 ],
 "metadata": {
  "application/vnd.databricks.v1+notebook": {
   "dashboards": [],
   "language": "python",
   "notebookMetadata": {
    "pythonIndentUnit": 2
   },
   "notebookName": "DE 0.00 - Module Introduction",
   "widgets": {}
  }
 },
 "nbformat": 4,
 "nbformat_minor": 0
}
